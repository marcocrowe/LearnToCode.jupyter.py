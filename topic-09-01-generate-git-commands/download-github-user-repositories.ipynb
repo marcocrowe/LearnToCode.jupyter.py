{
 "cells": [
  {
   "cell_type": "markdown",
   "id": "eaa1353f",
   "metadata": {},
   "source": [
    "# Download GitHub user repositories"
   ]
  },
  {
   "cell_type": "markdown",
   "id": "e8d241c1",
   "metadata": {},
   "source": [
    "<!--\n",
    "#!pip install markcrowe\n",
    "import data_analytics.github as github\n",
    "print(github.create_jupyter_notebook_header(\"markcrowe-com\", \"LearnToCode.jupyter.py\", \"topic-09-01-generate-git-commands/download-github-user-repositories.ipynb\", \"master\"))\n",
    "-->\n",
    "<table style=\"margin: auto;\"><tr><td><a href=\"https://mybinder.org/v2/gh/markcrowe-com/LearnToCode.jupyter.py/master?filepath=topic-09-01-generate-git-commands/download-github-user-repositories.ipynb\" target=\"_parent\"><img src=\"https://mybinder.org/badge_logo.svg\" alt=\"Open In Binder\"/></a></td><td>online editors</td><td><a href=\"https://colab.research.google.com/github/markcrowe-com/LearnToCode.jupyter.py/blob/master/topic-09-01-generate-git-commands/download-github-user-repositories.ipynb\" target=\"_parent\"><img src=\"https://colab.research.google.com/assets/colab-badge.svg\" alt=\"Open In Colab\"/></a></td></tr></table>"
   ]
  },
  {
   "cell_type": "markdown",
   "id": "8be6f4cd",
   "metadata": {},
   "source": [
    "## Objective"
   ]
  },
  {
   "cell_type": "markdown",
   "id": "7ddab405",
   "metadata": {},
   "source": [
    "The objective is to generate the Git commands to clone all the repositories of a user or organization."
   ]
  },
  {
   "cell_type": "markdown",
   "id": "41865344",
   "metadata": {},
   "source": [
    "## Setup\n",
    "Import required Python packages."
   ]
  },
  {
   "cell_type": "markdown",
   "id": "ed7fabf6",
   "metadata": {
    "heading_collapsed": true
   },
   "source": [
    "### automate install packages code"
   ]
  },
  {
   "cell_type": "code",
   "execution_count": 1,
   "id": "93a7fa58",
   "metadata": {
    "hidden": true
   },
   "outputs": [],
   "source": [
    "from ipywidgets import Button, Output, RadioButtons, VBox\n",
    "\n",
    "def display_requirements_install(url, file=\"requirements.txt\"):\n",
    "    def on_button_clicked(button):\n",
    "        requirements_file: str = file if source_radio_buttons.value == 'local' else url\n",
    "        with output:\n",
    "            output.clear_output()\n",
    "            print(f\"!pip install -r {requirements_file} --quiet\\n\")\n",
    "            #!pip install -r $requirements_file --quiet\n",
    "            print(\"Packages installed\")\n",
    "\n",
    "    button = Button(description=\"Install packages\")\n",
    "    button.on_click(on_button_clicked)\n",
    "    output = Output()\n",
    "    source_radio_buttons = RadioButtons(description='Source:', options=['local', 'remote'], value='remote')\n",
    "    return VBox([source_radio_buttons, button, output])"
   ]
  },
  {
   "cell_type": "markdown",
   "id": "c36ec5e5",
   "metadata": {
    "heading_collapsed": true
   },
   "source": [
    "### Command Readme"
   ]
  },
  {
   "cell_type": "markdown",
   "id": "e8dbf77e",
   "metadata": {
    "hidden": true
   },
   "source": [
    "#### Online install packages command\n",
    "\n",
    "```python\n",
    "!pip install -r https://raw.githubusercontent.com/markcrowe-com/LearnToCode.jupyter.py/master/topic-09-01-generate-git-commands/requirements.txt --quiet\n",
    "```\n",
    "\n",
    "#### Off-line install packages command\n",
    "\n",
    "```python\n",
    "!pip install -r requirements.txt --quiet\n",
    "```\n",
    "\n",
    "#### Package for creating requirements \n",
    "\n",
    "```python\n",
    "!pip install pipreqs\n",
    "```\n",
    "\n",
    "#### Package to recreate  requirements\n",
    "\n",
    "```python\n",
    "!pipreqs --force\n",
    "```"
   ]
  },
  {
   "cell_type": "markdown",
   "id": "c492739d",
   "metadata": {},
   "source": [
    "### automate install packages "
   ]
  },
  {
   "cell_type": "code",
   "execution_count": 2,
   "id": "651ac4ad",
   "metadata": {},
   "outputs": [
    {
     "data": {
      "application/vnd.jupyter.widget-view+json": {
       "model_id": "6d924f62f58342de9481797faabe2f52",
       "version_major": 2,
       "version_minor": 0
      },
      "text/plain": [
       "VBox(children=(RadioButtons(description='Source:', index=1, options=('local', 'remote'), value='remote'), Butt…"
      ]
     },
     "metadata": {},
     "output_type": "display_data"
    }
   ],
   "source": [
    "url: str = \"https://raw.githubusercontent.com/markcrowe-com/LearnToCode.jupyter.py/master/topic-09-01-generate-git-commands/requirements.txt\"\n",
    "display_requirements_install(url)"
   ]
  },
  {
   "cell_type": "markdown",
   "id": "e9e59057",
   "metadata": {},
   "source": [
    "## Imports"
   ]
  },
  {
   "cell_type": "code",
   "execution_count": 3,
   "id": "d3895245",
   "metadata": {},
   "outputs": [],
   "source": [
    "from humanize import naturalsize\n",
    "from IPython.display import HTML, Markdown\n",
    "from math import ceil\n",
    "import requests"
   ]
  },
  {
   "cell_type": "code",
   "execution_count": 4,
   "id": "9ea3ff12",
   "metadata": {
    "ExecuteTime": {
     "end_time": "2022-11-05T14:49:12.678116Z",
     "start_time": "2022-11-05T14:49:12.666119Z"
    }
   },
   "outputs": [],
   "source": [
    "REPOSITORY_PAGE_COUNT: int = 30"
   ]
  },
  {
   "cell_type": "markdown",
   "id": "73026119",
   "metadata": {},
   "source": [
    "## User input"
   ]
  },
  {
   "cell_type": "code",
   "execution_count": 5,
   "id": "fee5ff4f",
   "metadata": {
    "ExecuteTime": {
     "end_time": "2022-11-05T14:49:16.516274Z",
     "start_time": "2022-11-05T14:49:12.680117Z"
    }
   },
   "outputs": [
    {
     "name": "stdout",
     "output_type": "stream",
     "text": [
      "markcrowe-com\n"
     ]
    }
   ],
   "source": [
    "username: str = input()\n",
    "user_api_url: str = f\"https://api.github.com/users/{username}\"\n",
    "repositories_api_url: str = f\"https://api.github.com/users/{username}/repos\""
   ]
  },
  {
   "cell_type": "markdown",
   "id": "cb9e2321",
   "metadata": {},
   "source": [
    "## Download JSON"
   ]
  },
  {
   "cell_type": "code",
   "execution_count": 6,
   "id": "6d017daa",
   "metadata": {
    "ExecuteTime": {
     "end_time": "2022-11-05T14:49:16.839704Z",
     "start_time": "2022-11-05T14:49:16.519276Z"
    }
   },
   "outputs": [],
   "source": [
    "with requests.get(user_api_url) as response:\n",
    "    user_json: dict = response.json()"
   ]
  },
  {
   "cell_type": "code",
   "execution_count": 7,
   "id": "952278f9",
   "metadata": {
    "ExecuteTime": {
     "end_time": "2022-11-05T14:49:16.855693Z",
     "start_time": "2022-11-05T14:49:16.841680Z"
    }
   },
   "outputs": [],
   "source": [
    "repository_pages = ceil(user_json[\"public_repos\"] / REPOSITORY_PAGE_COUNT)"
   ]
  },
  {
   "cell_type": "code",
   "execution_count": 8,
   "id": "4396ac4e",
   "metadata": {
    "ExecuteTime": {
     "end_time": "2022-11-05T14:49:18.291086Z",
     "start_time": "2022-11-05T14:49:16.857681Z"
    }
   },
   "outputs": [
    {
     "name": "stdout",
     "output_type": "stream",
     "text": [
      "https://api.github.com/users/markcrowe-com/repos?page=1\n",
      "https://api.github.com/users/markcrowe-com/repos?page=2\n"
     ]
    }
   ],
   "source": [
    "repositories_json: list = []\n",
    "for page_number in range(1, repository_pages + 1):\n",
    "    url:str = f\"{repositories_api_url}?page={page_number}\"\n",
    "    print(url)\n",
    "    with requests.get(url) as response:\n",
    "        repositories_json += response.json()"
   ]
  },
  {
   "cell_type": "markdown",
   "id": "9dd6dfed",
   "metadata": {},
   "source": [
    "## Generate Git commands from JSON"
   ]
  },
  {
   "cell_type": "code",
   "execution_count": 9,
   "id": "9fc08890",
   "metadata": {
    "ExecuteTime": {
     "end_time": "2022-11-05T14:49:18.307077Z",
     "start_time": "2022-11-05T14:49:18.293079Z"
    }
   },
   "outputs": [],
   "source": [
    "user_repositories_kb_size: int = 0\n",
    "user_repositories_count: int = len(repositories_json)\n",
    "text: str = \"\"\n",
    "for repository_json in repositories_json:\n",
    "    text += f\"git clone {repository_json['clone_url']} -v\\n\"\n",
    "    user_repositories_kb_size += int(repository_json['size'])\n",
    "text = text.strip()"
   ]
  },
  {
   "cell_type": "code",
   "execution_count": 10,
   "id": "b8cc1990",
   "metadata": {
    "ExecuteTime": {
     "end_time": "2022-11-05T14:49:18.322080Z",
     "start_time": "2022-11-05T14:49:18.311076Z"
    }
   },
   "outputs": [
    {
     "name": "stdout",
     "output_type": "stream",
     "text": [
      "Total file size of 60 repositories is 623.4 MB\n",
      "\n"
     ]
    }
   ],
   "source": [
    "print(f\"Total file size of {user_repositories_count} repositories is {naturalsize(user_repositories_kb_size*1_024)}\\n\")"
   ]
  },
  {
   "cell_type": "code",
   "execution_count": 11,
   "id": "91519af9",
   "metadata": {
    "ExecuteTime": {
     "end_time": "2022-11-05T14:49:18.337080Z",
     "start_time": "2022-11-05T14:49:18.325078Z"
    }
   },
   "outputs": [
    {
     "data": {
      "text/html": [
       "<button style=\"float: right;\" onclick=\"navigator.clipboard.writeText(`git clone https://github.com/markcrowe-com/.github.git -v\n",
       "git clone https://github.com/markcrowe-com/AddressBook.CRUD.Example.CodeIgniter.git -v\n",
       "git clone https://github.com/markcrowe-com/AssemblyLmcProgram.Examples.asm.git -v\n",
       "git clone https://github.com/markcrowe-com/AvlTreeLectureCode.cpp.git -v\n",
       "git clone https://github.com/markcrowe-com/bootstrapmade-my-resume.template.git -v\n",
       "git clone https://github.com/markcrowe-com/browser-extension.git -v\n",
       "git clone https://github.com/markcrowe-com/CodeGeneration.MySql.git -v\n",
       "git clone https://github.com/markcrowe-com/CodinGameSolutions.ShadowsOfTheKnightEpisode1.git -v\n",
       "git clone https://github.com/markcrowe-com/ColoredBadges.git -v\n",
       "git clone https://github.com/markcrowe-com/dashboard-example.steamlit.py.git -v\n",
       "git clone https://github.com/markcrowe-com/data-analytics-project-template.git -v\n",
       "git clone https://github.com/markcrowe-com/DataStructures.cpp.git -v\n",
       "git clone https://github.com/markcrowe-com/DataStructures.cs.git -v\n",
       "git clone https://github.com/markcrowe-com/DataStructures.java.git -v\n",
       "git clone https://github.com/markcrowe-com/Dealership.git -v\n",
       "git clone https://github.com/markcrowe-com/dockpanelsuite.git -v\n",
       "git clone https://github.com/markcrowe-com/Excel.examples.git -v\n",
       "git clone https://github.com/markcrowe-com/final-year-projects.notes.git -v\n",
       "git clone https://github.com/markcrowe-com/github-slideshow.git -v\n",
       "git clone https://github.com/markcrowe-com/go-gin-app.git -v\n",
       "git clone https://github.com/markcrowe-com/grade-tracking.git -v\n",
       "git clone https://github.com/markcrowe-com/JavaDatabaseConnectivity.jdbc.git -v\n",
       "git clone https://github.com/markcrowe-com/JavaSpringWebsite.examples.git -v\n",
       "git clone https://github.com/markcrowe-com/learn-to-code.git -v\n",
       "git clone https://github.com/markcrowe-com/LearnToCode.java.git -v\n",
       "git clone https://github.com/markcrowe-com/LearnToCode.jupyter.py.git -v\n",
       "git clone https://github.com/markcrowe-com/LearnToCode.php.git -v\n",
       "git clone https://github.com/markcrowe-com/LearnToCode.py.git -v\n",
       "git clone https://github.com/markcrowe-com/LIT-Thesis-Template.git -v\n",
       "git clone https://github.com/markcrowe-com/machine-learning.git -v\n",
       "git clone https://github.com/markcrowe-com/MachineLearning.java.git -v\n",
       "git clone https://github.com/markcrowe-com/markcrowe-com.git -v\n",
       "git clone https://github.com/markcrowe-com/markcrowe-com.github.io.git -v\n",
       "git clone https://github.com/markcrowe-com/modern-resume-theme.git -v\n",
       "git clone https://github.com/markcrowe-com/MoodleFileArchive.ChromeExtension.git -v\n",
       "git clone https://github.com/markcrowe-com/MusicShop.jsp.git -v\n",
       "git clone https://github.com/markcrowe-com/NetBeans-Application-Settings.git -v\n",
       "git clone https://github.com/markcrowe-com/NextSimpleStarter.git -v\n",
       "git clone https://github.com/markcrowe-com/online-cv.git -v\n",
       "git clone https://github.com/markcrowe-com/Phoneword-Multiscreen.Xamarin.Android.cs.git -v\n",
       "git clone https://github.com/markcrowe-com/Phoneword.Xamarin.Android.cs.git -v\n",
       "git clone https://github.com/markcrowe-com/ProportionalRepresentationVoting.java.git -v\n",
       "git clone https://github.com/markcrowe-com/python-flask-api-tutorial.git -v\n",
       "git clone https://github.com/markcrowe-com/QuickCmdCommands.git -v\n",
       "git clone https://github.com/markcrowe-com/raymondcamden2018.git -v\n",
       "git clone https://github.com/markcrowe-com/ReactJS.git -v\n",
       "git clone https://github.com/markcrowe-com/resume.git -v\n",
       "git clone https://github.com/markcrowe-com/RoomReservation.learning-spring.git -v\n",
       "git clone https://github.com/markcrowe-com/scikit-learn-tips.git -v\n",
       "git clone https://github.com/markcrowe-com/scikit-learn-videos.git -v\n",
       "git clone https://github.com/markcrowe-com/spring-petclinic.git -v\n",
       "git clone https://github.com/markcrowe-com/template-test.git -v\n",
       "git clone https://github.com/markcrowe-com/theia.git -v\n",
       "git clone https://github.com/markcrowe-com/thesis-templates.git -v\n",
       "git clone https://github.com/markcrowe-com/TourCalifornia.learning-spring.git -v\n",
       "git clone https://github.com/markcrowe-com/UserManagement.CodeIgniter3.php.git -v\n",
       "git clone https://github.com/markcrowe-com/using-git.git -v\n",
       "git clone https://github.com/markcrowe-com/Web-Development-Notes.git -v\n",
       "git clone https://github.com/markcrowe-com/website.git -v\n",
       "git clone https://github.com/markcrowe-com/WordPressApiWrapper.jsp.git -v`)\">Copy</button>"
      ],
      "text/plain": [
       "<IPython.core.display.HTML object>"
      ]
     },
     "metadata": {},
     "output_type": "display_data"
    },
    {
     "name": "stdout",
     "output_type": "stream",
     "text": [
      "git clone https://github.com/markcrowe-com/.github.git -v\n",
      "git clone https://github.com/markcrowe-com/AddressBook.CRUD.Example.CodeIgniter.git -v\n",
      "git clone https://github.com/markcrowe-com/AssemblyLmcProgram.Examples.asm.git -v\n",
      "git clone https://github.com/markcrowe-com/AvlTreeLectureCode.cpp.git -v\n",
      "git clone https://github.com/markcrowe-com/bootstrapmade-my-resume.template.git -v\n",
      "git clone https://github.com/markcrowe-com/browser-extension.git -v\n",
      "git clone https://github.com/markcrowe-com/CodeGeneration.MySql.git -v\n",
      "git clone https://github.com/markcrowe-com/CodinGameSolutions.ShadowsOfTheKnightEpisode1.git -v\n",
      "git clone https://github.com/markcrowe-com/ColoredBadges.git -v\n",
      "git clone https://github.com/markcrowe-com/dashboard-example.steamlit.py.git -v\n",
      "git clone https://github.com/markcrowe-com/data-analytics-project-template.git -v\n",
      "git clone https://github.com/markcrowe-com/DataStructures.cpp.git -v\n",
      "git clone https://github.com/markcrowe-com/DataStructures.cs.git -v\n",
      "git clone https://github.com/markcrowe-com/DataStructures.java.git -v\n",
      "git clone https://github.com/markcrowe-com/Dealership.git -v\n",
      "git clone https://github.com/markcrowe-com/dockpanelsuite.git -v\n",
      "git clone https://github.com/markcrowe-com/Excel.examples.git -v\n",
      "git clone https://github.com/markcrowe-com/final-year-projects.notes.git -v\n",
      "git clone https://github.com/markcrowe-com/github-slideshow.git -v\n",
      "git clone https://github.com/markcrowe-com/go-gin-app.git -v\n",
      "git clone https://github.com/markcrowe-com/grade-tracking.git -v\n",
      "git clone https://github.com/markcrowe-com/JavaDatabaseConnectivity.jdbc.git -v\n",
      "git clone https://github.com/markcrowe-com/JavaSpringWebsite.examples.git -v\n",
      "git clone https://github.com/markcrowe-com/learn-to-code.git -v\n",
      "git clone https://github.com/markcrowe-com/LearnToCode.java.git -v\n",
      "git clone https://github.com/markcrowe-com/LearnToCode.jupyter.py.git -v\n",
      "git clone https://github.com/markcrowe-com/LearnToCode.php.git -v\n",
      "git clone https://github.com/markcrowe-com/LearnToCode.py.git -v\n",
      "git clone https://github.com/markcrowe-com/LIT-Thesis-Template.git -v\n",
      "git clone https://github.com/markcrowe-com/machine-learning.git -v\n",
      "git clone https://github.com/markcrowe-com/MachineLearning.java.git -v\n",
      "git clone https://github.com/markcrowe-com/markcrowe-com.git -v\n",
      "git clone https://github.com/markcrowe-com/markcrowe-com.github.io.git -v\n",
      "git clone https://github.com/markcrowe-com/modern-resume-theme.git -v\n",
      "git clone https://github.com/markcrowe-com/MoodleFileArchive.ChromeExtension.git -v\n",
      "git clone https://github.com/markcrowe-com/MusicShop.jsp.git -v\n",
      "git clone https://github.com/markcrowe-com/NetBeans-Application-Settings.git -v\n",
      "git clone https://github.com/markcrowe-com/NextSimpleStarter.git -v\n",
      "git clone https://github.com/markcrowe-com/online-cv.git -v\n",
      "git clone https://github.com/markcrowe-com/Phoneword-Multiscreen.Xamarin.Android.cs.git -v\n",
      "git clone https://github.com/markcrowe-com/Phoneword.Xamarin.Android.cs.git -v\n",
      "git clone https://github.com/markcrowe-com/ProportionalRepresentationVoting.java.git -v\n",
      "git clone https://github.com/markcrowe-com/python-flask-api-tutorial.git -v\n",
      "git clone https://github.com/markcrowe-com/QuickCmdCommands.git -v\n",
      "git clone https://github.com/markcrowe-com/raymondcamden2018.git -v\n",
      "git clone https://github.com/markcrowe-com/ReactJS.git -v\n",
      "git clone https://github.com/markcrowe-com/resume.git -v\n",
      "git clone https://github.com/markcrowe-com/RoomReservation.learning-spring.git -v\n",
      "git clone https://github.com/markcrowe-com/scikit-learn-tips.git -v\n",
      "git clone https://github.com/markcrowe-com/scikit-learn-videos.git -v\n",
      "git clone https://github.com/markcrowe-com/spring-petclinic.git -v\n",
      "git clone https://github.com/markcrowe-com/template-test.git -v\n",
      "git clone https://github.com/markcrowe-com/theia.git -v\n",
      "git clone https://github.com/markcrowe-com/thesis-templates.git -v\n",
      "git clone https://github.com/markcrowe-com/TourCalifornia.learning-spring.git -v\n",
      "git clone https://github.com/markcrowe-com/UserManagement.CodeIgniter3.php.git -v\n",
      "git clone https://github.com/markcrowe-com/using-git.git -v\n",
      "git clone https://github.com/markcrowe-com/Web-Development-Notes.git -v\n",
      "git clone https://github.com/markcrowe-com/website.git -v\n",
      "git clone https://github.com/markcrowe-com/WordPressApiWrapper.jsp.git -v\n"
     ]
    }
   ],
   "source": [
    "display(HTML(f'<button style=\"float: right;\" onclick=\"navigator.clipboard.writeText(`{text}`)\">Copy</button>'))\n",
    "print(text)"
   ]
  },
  {
   "cell_type": "markdown",
   "id": "a0dccba1",
   "metadata": {},
   "source": [
    "Author &copy; 2022 <a href=\"https://github.com/markcrowe-com\" target=\"_parent\">Mark Crowe</a>. All rights reserved."
   ]
  }
 ],
 "metadata": {
  "kernelspec": {
   "display_name": "Python 3 (ipykernel)",
   "language": "python",
   "name": "python3"
  },
  "language_info": {
   "codemirror_mode": {
    "name": "ipython",
    "version": 3
   },
   "file_extension": ".py",
   "mimetype": "text/x-python",
   "name": "python",
   "nbconvert_exporter": "python",
   "pygments_lexer": "ipython3",
   "version": "3.9.7"
  },
  "toc": {
   "base_numbering": 1,
   "nav_menu": {},
   "number_sections": false,
   "sideBar": true,
   "skip_h1_title": false,
   "title_cell": "Table of Contents",
   "title_sidebar": "Contents",
   "toc_cell": false,
   "toc_position": {},
   "toc_section_display": true,
   "toc_window_display": false
  }
 },
 "nbformat": 4,
 "nbformat_minor": 5
}
