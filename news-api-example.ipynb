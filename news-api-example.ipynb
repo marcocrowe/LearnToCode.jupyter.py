{
 "cells": [
  {
   "cell_type": "code",
   "execution_count": 1,
   "id": "fa112292",
   "metadata": {},
   "outputs": [
    {
     "data": {
      "text/html": [
       "<table style=\"margin: auto;\"><tr><td><a href=\"https://mybinder.org/v2/gh/markcrowe-com/LearnToCode.jupyter.py/master?filepath=news-api-example.ipynb\" target=\"_parent\"><img src=\"https://mybinder.org/badge_logo.svg\" alt=\"Open In Binder\"/></a></td><td>online editors</td><td><a href=\"https://colab.research.google.com/github/markcrowe-com/LearnToCode.jupyter.py/blob/master/news-api-example.ipynb\" target=\"_parent\"><img src=\"https://colab.research.google.com/assets/colab-badge.svg\" alt=\"Open In Colab\"/></a></td></tr></table>"
      ],
      "text/plain": [
       "<IPython.core.display.HTML object>"
      ]
     },
     "metadata": {},
     "output_type": "display_data"
    }
   ],
   "source": [
    "#pip install markcrowe\n",
    "import data_analytics.github as github\n",
    "github.display_jupyter_notebook_header(\"markcrowe-com\", \"LearnToCode.jupyter.py\", \"news-api-example.ipynb\")"
   ]
  },
  {
   "cell_type": "markdown",
   "id": "c4fcd741",
   "metadata": {},
   "source": [
    "# Python Programming\n",
    "## Assignment Introduction\n",
    "A company has come to you as a developer and asked you to develop an application using\n",
    "Python. You have been asked to design and implement a system which will allow editors in a\n",
    "news room keep track of different world events as they occur. In other words, a real time\n",
    "news feed.\n",
    "In order to be able to access real time data, you will need to connect to external API to\n",
    "request news. "
   ]
  },
  {
   "cell_type": "markdown",
   "id": "ea50f6ac",
   "metadata": {},
   "source": [
    "Specific Requirements\n",
    "- The application should be able to display Business news, Entertainment News and Science News – Each of these should be gathered from a JSON News Feed https://newsapi.org\n",
    "- All of the data that is collected should be parsed to extract content, leaving only the date/time and brief description of the news story. Raw JSON should not be printed to the user.\n",
    "- Whenever any JSON service is queried, all the data should be stored locally inside of an array which will later be used to present the data to the user. This reduces the number of requests which are made on the services. "
   ]
  },
  {
   "cell_type": "code",
   "execution_count": 2,
   "id": "a55a964b",
   "metadata": {},
   "outputs": [],
   "source": [
    "# pip install newsapi-python"
   ]
  },
  {
   "cell_type": "markdown",
   "id": "1d056359",
   "metadata": {},
   "source": [
    "Get your free API key here @ <https://newsapi.org/register>"
   ]
  },
  {
   "cell_type": "code",
   "execution_count": 3,
   "id": "33a99fb3",
   "metadata": {},
   "outputs": [],
   "source": [
    "api_key = input(\"Input your NewsAPI API key\") # For security reasons you do not save an API key to a notebook"
   ]
  },
  {
   "cell_type": "code",
   "execution_count": 4,
   "id": "5e7e7e84",
   "metadata": {},
   "outputs": [],
   "source": [
    "# https://newsapi.org/docs/client-libraries/python\n",
    "# https://newsapi.org/docs/endpoints/sources\n",
    "from newsapi import NewsApiClient\n",
    "\n",
    "# Init\n",
    "newsapi = NewsApiClient(api_key=api_key)"
   ]
  },
  {
   "cell_type": "code",
   "execution_count": 5,
   "id": "cf6520ef",
   "metadata": {},
   "outputs": [],
   "source": [
    "def get_news_by_category(category: str) -> list :\n",
    "    news_list = []\n",
    "    top_headlines = newsapi.get_top_headlines(category=category, language='en')\n",
    "    for top_headline in top_headlines[\"articles\"]:\n",
    "        news_list.append((top_headline[\"publishedAt\"], top_headline[\"title\"], top_headline[\"url\"]))\n",
    "    return news_list"
   ]
  },
  {
   "cell_type": "code",
   "execution_count": 6,
   "id": "9d2f33c6",
   "metadata": {},
   "outputs": [
    {
     "name": "stdout",
     "output_type": "stream",
     "text": [
      "2021-12-08T18:17:06Z Dear Sophie: 2 questions about resuming consular appointments - TechCrunch\n",
      "2021-12-08T17:50:10Z Inside the cryptocurrency scam: 'Frank' explains how European scammers target Australians for millions - ABC News\n",
      "2021-12-08T17:35:52Z Cramer sees potential for new roaring 20s-type economic boom as Covid concerns recede - CNBC\n",
      "2021-12-08T17:32:00Z Elon Musk slams Biden’s Build Back Better bill and its electric car incentives - The Guardian\n",
      "2021-12-08T17:19:07Z Vishal Garg: CEO who fired 900 employees on Zoom has allegations of fraud, further abuse claims - New Zealand Herald\n",
      "2021-12-08T17:17:00Z World’s largest lab-grown steak unveiled by Israeli firm - The Guardian\n",
      "2021-12-08T17:15:37Z Glaxo Antibody Works Against Omicron Variant - Bloomberg Markets and Finance\n",
      "2021-12-08T17:15:00Z Big raises in store for US workers in 2022, report says - The Washington Post\n",
      "2021-12-08T17:13:00Z Dollar slips, stocks meander as Omicron fears ease - Reuters\n",
      "2021-12-08T17:02:18Z Tesla is discussing video game features with the NHTSA - Teslarati\n",
      "2021-12-08T17:01:00Z Instagram chief to testify as Congress scrutinizes platform’s impact on kids - The Guardian\n",
      "2021-12-08T17:00:00Z Haier, Samsung and Fisher & Paykel drop in Consumer NZ ratings after it introduces new lifetime criteria - Stuff.co.nz\n",
      "2021-12-08T16:50:00Z Renault Zoe goes from hero to zero in European safety agency rating - Reuters\n",
      "2021-12-08T16:49:00Z Costco is offering a new perk to club members - CNN\n",
      "2021-12-08T16:46:07Z Better.com C.E.O. Apologizes for Firing Workers Over Zoom - The New York Times\n",
      "2021-12-08T16:44:00Z Protection against Omicron coronavirus variant improves with three vaccine doses, Pfizer says - CNN\n",
      "2021-12-08T16:43:00Z Trafigura to give £1bn in bonuses to top traders and executives - The Guardian\n",
      "2021-12-08T16:38:00Z RTÉ's Brian O'Donovan to leave Washington for new role as Work and Technology Correspondent - TheJournal.ie\n",
      "2021-12-08T16:33:58Z Gov't seeks P300-B loan from BSP - BusinessWorld Online\n",
      "2021-12-08T16:29:13Z ‘Better’ boss apologises for mass-firing 900 workers on Zoom call - Al Jazeera English\n",
      "2021-12-08T18:41:59Z \"Is There Still Sex in the City?\" Candace Bushnell hits the stage in New York City | AFP - AFP News Agency\n",
      "2021-12-08T18:34:21Z 'Hellbound' shines light on South Korean webcomics - Reuters\n",
      "2021-12-08T18:30:34Z Rachel Brosnahan Talks About 'Marvelous Mrs.Maisel' Season Four | Women In Entertainment 2021 - The Hollywood Reporter\n",
      "2021-12-08T18:16:59Z Kate Hosts Star-Studded Carol Service at Westminster Abbey - The Royal Family Channel\n",
      "2021-12-08T18:07:59Z On Dharam ji's bday, Ranveer Singh drops a pretty pic ft Alia Bhatt from Rocky Aur Rani Ki Prem Kahani's sets - PINKVILLA\n",
      "2021-12-08T18:00:54Z Rita Moreno on West Side Story, then and now - CBC News\n",
      "2021-12-08T18:00:08Z 'Being the Ricardos' writer-director Aaron Sorkin: 'I like to parachute the audience into the story' - GoldDerby / Gold Derby\n",
      "2021-12-08T18:00:00Z Cynthia Nixon Talks About Her Role In 'Sex And The City' Sequel - TODAY\n",
      "2021-12-08T17:58:42Z Maddie Ziegler on Holiday Plans With Boyfriend Eddie Benjamin - extratv\n",
      "2021-12-08T17:47:00Z Disney Hopes For Long Holiday Dance With Steven Spielberg’s ‘West Side Story’; Global Start Could Reach $31M – Box Office Preview - Deadline\n",
      "2021-12-08T17:46:09Z Katrina Kaif-Vicky Kaushal Wedding Updates: Haldi an intimate affair; VicKat to host Bollywood bash later - India TV News\n",
      "2021-12-08T17:43:09Z Jennifer Aniston gets VERY cozy with ex-husband Justin Theroux - Daily Mail\n",
      "2021-12-08T17:42:42Z Let's Connect: Dwayne 'The Rock' Johnson gives away his People's Choice Award - FOX 13 News Utah\n",
      "2021-12-08T17:38:19Z Selma Blair Teases Revelations In 'Personal' New Memoir - Access\n",
      "2021-12-08T17:34:54Z 2021's Most Mispronounced Words - FOX 61\n",
      "2021-12-08T17:25:54Z SPIDER-MAN: NO WAY HOME Trailer - \"Villains\" | NEW (2021) - JoBlo Movie Trailers\n",
      "2021-12-08T17:25:08Z Is JoJo Siwa Rocking REVENGE Looks After Breakup? - extratv\n",
      "2021-12-08T17:21:58Z Heather Rae El Moussa Details Wedding, Whether She Would Reconcile With Christine Quinn | EXTENDED - ET Canada\n",
      "2021-12-08T17:15:00Z ‘Walker’ Prequel ‘Independence’ Executive Produced By Jared Padalecki In Works At The CW - Deadline\n",
      "2021-12-08T17:12:17Z Kate Bishop’s mysterious aunt Moira in Hawkeye was a West Coast Avenger - Polygon\n",
      "2021-12-08T18:30:01Z Simulations show how earthquake early warning might be improved for magnitude-9 earthquakes - Phys.Org\n",
      "2021-12-08T18:10:05Z Researchers propose new method for electrocatalytic hydrogenation of acetylene to ethylene under room temperature - Phys.org\n",
      "2021-12-08T17:47:00Z Don’t be square: Chinese sighting of ‘cube’ on moon rouses speculation - TimesLIVE\n",
      "2021-12-08T17:40:04Z How Hydra animals regenerate their own heads - Phys.org\n",
      "2021-12-08T17:33:41Z 'Would you like a little ice with your exoplanet?' For Earth-like worlds, that may be a tall order - Phys.org\n",
      "2021-12-08T17:33:39Z Planet seen orbiting two-star system hotter than the Sun - The Irish News\n",
      "2021-12-08T17:28:20Z NASA depicts solar eclipse from space in a brilliant photo - WION\n",
      "2021-12-08T17:18:00Z Scientists plan to land on Apophis, an ominous asteroid set for a rare Earth flyby - CNET\n",
      "2021-12-08T17:04:48Z Deep-learning model speeds extreme weather predictions - Phys.org\n",
      "2021-12-08T17:00:41Z How NASA's New James Webb Telescope Could Reveal the First Galaxies | WSJ - Wall Street Journal\n",
      "2021-12-08T17:00:21Z Look: Chinese rover spots a \"Moon Cube,\" and opens a new lunar mystery - Inverse\n",
      "2021-12-08T16:54:55Z Study: Hydras regenerate heads by changing way their genes are regulated - UPI News\n",
      "2021-12-08T16:53:35Z Novel Chemical Design Makes Hard Crystals Stretchy - Dartmouth News\n",
      "2021-12-08T16:50:10Z 'Would you like a little ice with your exoplanet?' For Earth-like worlds, that may be a tall order - UW News\n",
      "2021-12-08T16:46:49Z Simulations show how earthquake early warning might be improved for magnitude-9 earthquakes - UW News\n",
      "2021-12-08T16:31:41Z Physical features boost the efficiency of quantum simulations: Algorithms on future quantum computers - Science Daily\n",
      "2021-12-08T16:27:26Z Hubble Space Telescope back in action: A brief tale of recovery - SlashGear\n",
      "2021-12-08T16:19:00Z Alien 'super-Jupiter' breaks the mold on where planets can exist - The Tribune\n",
      "2021-12-08T16:11:11Z Transforming Materials with Light - Caltech\n",
      "2021-12-08T16:09:28Z Alien 'super-Jupiter' breaks the mold on where planets can exist - CNA\n"
     ]
    }
   ],
   "source": [
    "categories = [\"business\", \"entertainment\", \"science\"]\n",
    "for category in categories:\n",
    "    news_list = get_news_by_category(category)\n",
    "    for news_item in news_list:\n",
    "        print(news_item[0], news_item[1])"
   ]
  },
  {
   "cell_type": "code",
   "execution_count": 7,
   "id": "8a09587d",
   "metadata": {},
   "outputs": [],
   "source": [
    "#for key, value in top_headlines.items():\n",
    "#    print(key)"
   ]
  },
  {
   "cell_type": "code",
   "execution_count": 8,
   "id": "1c5384e1",
   "metadata": {},
   "outputs": [
    {
     "name": "stdout",
     "output_type": "stream",
     "text": [
      "[\n",
      "    \"foo\",\n",
      "    {\n",
      "        \"bar\": [\n",
      "            \"baz\",\n",
      "            null,\n",
      "            1.0,\n",
      "            2\n",
      "        ]\n",
      "    }\n",
      "]\n"
     ]
    }
   ],
   "source": [
    "#Print pretty JSON example\n",
    "import json\n",
    "your_json = '[\"foo\", {\"bar\":[\"baz\", null, 1.0, 2]}]'\n",
    "parsed = json.loads(your_json)\n",
    "print(json.dumps(parsed, indent=4, sort_keys=True))"
   ]
  }
 ],
 "metadata": {
  "kernelspec": {
   "display_name": "Python 3",
   "language": "python",
   "name": "python3"
  },
  "language_info": {
   "codemirror_mode": {
    "name": "ipython",
    "version": 3
   },
   "file_extension": ".py",
   "mimetype": "text/x-python",
   "name": "python",
   "nbconvert_exporter": "python",
   "pygments_lexer": "ipython3",
   "version": "3.8.8"
  }
 },
 "nbformat": 4,
 "nbformat_minor": 5
}
