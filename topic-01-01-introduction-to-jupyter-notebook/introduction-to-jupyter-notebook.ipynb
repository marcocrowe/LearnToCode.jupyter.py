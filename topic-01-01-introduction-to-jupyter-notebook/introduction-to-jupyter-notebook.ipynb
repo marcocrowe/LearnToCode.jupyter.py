{
 "cells": [
  {
   "cell_type": "markdown",
   "id": "7457c54b",
   "metadata": {
    "colab_type": "text",
    "id": "view-in-github"
   },
   "source": [
    "<table><tr><td><a href=\"https://mybinder.org/v2/gh/markcrowe-com/LearnToCode.jupyter.py/master?filepath=topic-01-01-introduction-to-jupyter-notebook/introduction-to-jupyter-notebook.ipynb\" target=\"_parent\"><img src=\"https://mybinder.org/badge_logo.svg\" alt=\"Open In Binder\"/></a></td><td>online editors</td><td><a href=\"https://colab.research.google.com/github/markcrowe-com/LearnToCode.jupyter.py/blob/master/topic-01-01-introduction-to-jupyter-notebook/introduction-to-jupyter-notebook.ipynb\" target=\"_parent\"><img src=\"https://colab.research.google.com/assets/colab-badge.svg\" alt=\"Open In Colab\"/></a></td></tr></table>"
   ]
  },
  {
   "cell_type": "markdown",
   "id": "ae16a5af",
   "metadata": {
    "id": "499b245a"
   },
   "source": [
    "# Introduction to Jupyter Notebook\n",
    "\n",
    "An introduction to using Jupyter Notebooks."
   ]
  },
  {
   "cell_type": "markdown",
   "id": "0f54c38a",
   "metadata": {},
   "source": [
    "# Section 1: Using Markdown in a Jupyter Notebook\n",
    "\n",
    "The code in the cell below is markdown.  Create a new cell and change its type to markdown and enter the markdown code to see the result:"
   ]
  },
  {
   "cell_type": "markdown",
   "id": "ae82844d",
   "metadata": {
    "id": "786d26d3"
   },
   "source": [
    "```md\n",
    "## Using Markdown in a Jupyter Notebook\n",
    "\n",
    "**Jupyter Notebook** offers a web-based environment to work with notebooks containing code, data, and text.\n",
    "\n",
    "Jupyter Notebook uses _markdown_ language to format text. You can find more information [here](https://www.markdownguide.org/basic-syntax/).\n",
    "\n",
    "You can add a list with bullets\n",
    "* First\n",
    "* Second\n",
    "* Third\n",
    "\n",
    "You can also <span style=\"background:yellow\">highlight</span> phrases with html. And much more...\n",
    "```"
   ]
  },
  {
   "cell_type": "markdown",
   "id": "d723f739",
   "metadata": {},
   "source": [
    "# Section 2: Attaching Images in a Jupyter Notebook\n",
    "The code in the cell below is markdown.  Create a new cell and change its type to markdown and enter the markdown code to see the result:"
   ]
  },
  {
   "cell_type": "markdown",
   "id": "0c46ac81",
   "metadata": {},
   "source": [
    "```md\n",
    "## Attaching Images in a Jupyter Notebook\n",
    "\n",
    ">**Embedded Notebook Image**  \n",
    ">![data-analysis-idea.png](attachment:data-analysis-idea.png)\n",
    ">*Note that file size of the notebook increase after attaching the image*\n",
    "\n",
    ">**Markdown Referenced Image**  \n",
    ">![data -> analysis -> idea](https://github.com/markcrowe-com/LearnToCode.jupyter.py/blob/master/topic-01-01-introduction-to-jupyter-notebook/data-analysis-idea.png?raw=1)  \n",
    ">*Note that file size of the notebook doesn't increase after attaching the image*\n",
    "\n",
    ">**Html Referenced Image**  \n",
    "><img alt=\"data -> analysis -> idea\" src=\"https://github.com/markcrowe-com/LearnToCode.jupyter.py/blob/master/topic-01-01-introduction-to-jupyter-notebook/data-analysis-idea.png?raw=1\" />  \n",
    ">*Note that file size of the notebook doesn't increase after attaching the image*\n",
    "```"
   ]
  },
  {
   "cell_type": "markdown",
   "id": "97b54b28",
   "metadata": {
    "id": "fbc8cf70"
   },
   "source": [
    "# Section 3: Using Python in a Jupyter Notebook\n",
    "The code in the cell below is markdown. Create a new cell and change its type to python and enter the markdown code to see the result:"
   ]
  },
  {
   "cell_type": "markdown",
   "id": "02a08219",
   "metadata": {
    "id": "a6c6e062",
    "outputId": "596eb6f7-1bc6-47f9-db33-c5b989eac965"
   },
   "source": [
    "```python\n",
    "print(\"Hello World\")\n",
    "```"
   ]
  },
  {
   "cell_type": "markdown",
   "id": "a45c85e9",
   "metadata": {},
   "source": [
    "# Section 4: Working with Git"
   ]
  },
  {
   "cell_type": "markdown",
   "id": "03e66f22",
   "metadata": {},
   "source": [
    "When using Git to upload a project to [GitHub](https://www.github.com) we only want to upload the source code necessary to build the project.  We do not want to upload any software that is built or sensitive files or irrelevant files.  \n",
    "When can use Toptal's gitignore.io online tool to create a .gitignore file [https://www.toptal.com/developers/gitignore](https://www.toptal.com/developers/gitignore)  \n",
    "\n",
    "When creating a .gitignore file we select the programming language and the Software tools we are using. For Jupyter notebooks with Python we would choose `Python` and `Jupyternotebooks`.  There are other applications you might list like `VisualStudioCode` or your operating system e.g. `Windows` or `macOS`.  \n",
    "\n",
    "\n",
    "https://www.toptal.com/developers/gitignore/api/python,jupyternotebooks,visualstudiocode"
   ]
  }
 ],
 "metadata": {
  "colab": {
   "include_colab_link": true,
   "name": "Introduction-to-Jupyter-Notebook.ipynb",
   "provenance": []
  },
  "interpreter": {
   "hash": "b3ba2566441a7c06988d0923437866b63cedc61552a5af99d1f4fb67d367b25f"
  },
  "kernelspec": {
   "display_name": "Python 3",
   "language": "python",
   "name": "python3"
  },
  "language_info": {
   "codemirror_mode": {
    "name": "ipython",
    "version": 3
   },
   "file_extension": ".py",
   "mimetype": "text/x-python",
   "name": "python",
   "nbconvert_exporter": "python",
   "pygments_lexer": "ipython3",
   "version": "3.8.8"
  }
 },
 "nbformat": 4,
 "nbformat_minor": 5
}
