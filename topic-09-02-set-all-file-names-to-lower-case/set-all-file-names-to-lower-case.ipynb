{
 "cells": [
  {
   "cell_type": "markdown",
   "id": "98921153",
   "metadata": {},
   "source": [
    "# Set all filenames to lowercase"
   ]
  },
  {
   "cell_type": "markdown",
   "id": "0e174662",
   "metadata": {},
   "source": [
    "<!--\n",
    "import data_analytics.github as github\n",
    "print(github.create_jupyter_notebook_header(\"markcrowe-com\", \"LearnToCode.jupyter.py\", \"topic-09-02-set-all-file-names-to-lower-case/set-all-file-names-to-lower-case.ipynb\", \"master\"))\n",
    "-->\n",
    "<table style=\"margin: auto;\"><tr><td><a href=\"https://mybinder.org/v2/gh/markcrowe-com/LearnToCode.jupyter.py/master?filepath=topic-09-02-set-all-file-names-to-lower-case/set-all-file-names-to-lower-case.ipynb\" target=\"_parent\"><img src=\"https://mybinder.org/badge_logo.svg\" alt=\"Open In Binder\"/></a></td><td>online editors</td><td><a href=\"https://colab.research.google.com/github/markcrowe-com/LearnToCode.jupyter.py/blob/master/topic-09-02-set-all-file-names-to-lower-case/set-all-file-names-to-lower-case.ipynb\" target=\"_parent\"><img src=\"https://colab.research.google.com/assets/colab-badge.svg\" alt=\"Open In Colab\"/></a></td></tr></table>"
   ]
  },
  {
   "cell_type": "markdown",
   "id": "7bd19328",
   "metadata": {},
   "source": [
    "## Objective"
   ]
  },
  {
   "cell_type": "markdown",
   "id": "637e176a",
   "metadata": {},
   "source": [
    "The objective is to set all filenames of the sub files/directories of a directory to lowercase."
   ]
  },
  {
   "cell_type": "markdown",
   "id": "ee21f84b",
   "metadata": {},
   "source": [
    "## Setup\n",
    "Import required Python packages."
   ]
  },
  {
   "cell_type": "markdown",
   "id": "ab8d27ae",
   "metadata": {
    "heading_collapsed": true
   },
   "source": [
    "### Command Readme"
   ]
  },
  {
   "cell_type": "markdown",
   "id": "9a9c94e1",
   "metadata": {
    "hidden": true
   },
   "source": [
    "#### Online install packages command\n",
    "\n",
    "```python\n",
    "!pip install -r https://raw.githubusercontent.com/markcrowe-com/LearnToCode.jupyter.py/master/topic-09-02-set-all-file-names-to-lower-case/requirements.txt --quiet\n",
    "```\n",
    "\n",
    "#### Off-line install packages command\n",
    "\n",
    "```python\n",
    "!pip install -r requirements.txt --quiet\n",
    "```\n",
    "\n",
    "#### Package for creating requirements \n",
    "\n",
    "```python\n",
    "!pip install pipreqs\n",
    "```\n",
    "\n",
    "#### Package to recreate  requirements\n",
    "\n",
    "```python\n",
    "!pipreqs --force\n",
    "```"
   ]
  },
  {
   "cell_type": "markdown",
   "id": "5b78a6ca",
   "metadata": {},
   "source": [
    "## Imports"
   ]
  },
  {
   "cell_type": "code",
   "execution_count": 1,
   "id": "2d80313d",
   "metadata": {
    "ExecuteTime": {
     "end_time": "2022-11-17T05:24:18.947468Z",
     "start_time": "2022-11-17T05:24:18.931469Z"
    }
   },
   "outputs": [],
   "source": [
    "import os"
   ]
  },
  {
   "cell_type": "markdown",
   "id": "e24d2001",
   "metadata": {},
   "source": [
    "## User input"
   ]
  },
  {
   "cell_type": "code",
   "execution_count": 2,
   "id": "78796f28",
   "metadata": {
    "ExecuteTime": {
     "end_time": "2022-11-17T05:24:21.341253Z",
     "start_time": "2022-11-17T05:24:20.132261Z"
    }
   },
   "outputs": [
    {
     "name": "stdout",
     "output_type": "stream",
     "text": [
      "Enter folder:C:\\Users\\user\\Documents\\GitHub\\test\n"
     ]
    }
   ],
   "source": [
    "path: str = input(\"Enter folder:\")"
   ]
  },
  {
   "cell_type": "markdown",
   "id": "60f4802b",
   "metadata": {},
   "source": [
    "## Set all filenames of the sub files/directories of a directory to lowercase."
   ]
  },
  {
   "cell_type": "code",
   "execution_count": 3,
   "id": "504984c5",
   "metadata": {
    "ExecuteTime": {
     "end_time": "2022-11-17T05:24:22.812430Z",
     "start_time": "2022-11-17T05:24:22.793427Z"
    }
   },
   "outputs": [],
   "source": [
    "def rename_file_system_object(parent_directory, file_name):\n",
    "    new_file_name: str = file_name.lower()\n",
    "    if (file_name != new_file_name):\n",
    "        print(f\"Renaming:'{file_name}' to '{new_file_name}'\")\n",
    "        os.rename(os.path.join(parent_directory, file_name),\n",
    "                  os.path.join(parent_directory, new_file_name))"
   ]
  },
  {
   "cell_type": "code",
   "execution_count": 4,
   "id": "4967aece",
   "metadata": {
    "ExecuteTime": {
     "end_time": "2022-11-17T05:24:24.198718Z",
     "start_time": "2022-11-17T05:24:24.148710Z"
    }
   },
   "outputs": [
    {
     "name": "stdout",
     "output_type": "stream",
     "text": [
      "C:\\Users\\user\\Documents\\GitHub\\test\n",
      "\n",
      "Renaming:'TitleCase.txt' to 'titlecase.txt'\n",
      "Renaming:'UPPER_CASE.txt' to 'upper_case.txt'\n",
      "Renaming:'TitleCase' to 'titlecase'\n"
     ]
    }
   ],
   "source": [
    "print(path)\n",
    "print()\n",
    "for parent_directory, directories, filenames in os.walk(path):\n",
    "    for file_name in filenames:\n",
    "        rename_file_system_object(parent_directory, file_name)\n",
    "    for directory_name in directories:\n",
    "        rename_file_system_object(parent_directory, directory_name)"
   ]
  },
  {
   "cell_type": "markdown",
   "id": "61e67e5d",
   "metadata": {},
   "source": [
    "Author &copy; 2022 <a href=\"https://github.com/markcrowe-com\" target=\"_parent\">Mark Crowe</a>. All rights reserved."
   ]
  }
 ],
 "metadata": {
  "kernelspec": {
   "display_name": "Python 3 (ipykernel)",
   "language": "python",
   "name": "python3"
  },
  "language_info": {
   "codemirror_mode": {
    "name": "ipython",
    "version": 3
   },
   "file_extension": ".py",
   "mimetype": "text/x-python",
   "name": "python",
   "nbconvert_exporter": "python",
   "pygments_lexer": "ipython3",
   "version": "3.9.7"
  },
  "toc": {
   "base_numbering": 1,
   "nav_menu": {},
   "number_sections": false,
   "sideBar": true,
   "skip_h1_title": false,
   "title_cell": "Table of Contents",
   "title_sidebar": "Contents",
   "toc_cell": false,
   "toc_position": {},
   "toc_section_display": true,
   "toc_window_display": false
  }
 },
 "nbformat": 4,
 "nbformat_minor": 5
}
